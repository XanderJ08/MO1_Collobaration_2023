{
 "cells": [
  {
   "cell_type": "code",
   "execution_count": 1,
   "id": "377225da",
   "metadata": {},
   "outputs": [],
   "source": [
    "# m02 Programming Assignment - Loops and Conditionals\n",
    "# author: Xander Jewell\n",
    "# created: 2022-01-23\n",
    "# The Programming Homework for Module 2"
   ]
  },
  {
   "cell_type": "code",
   "execution_count": 24,
   "id": "daf1f3cd",
   "metadata": {},
   "outputs": [
    {
     "name": "stdout",
     "output_type": "stream",
     "text": [
      "too low\n"
     ]
    }
   ],
   "source": [
    "# Things to do: 4.1\n",
    "\n",
    "# Assigning a number to secret variable.\n",
    "secret = 5\n",
    "\n",
    "# Assigning a number to guess variable.\n",
    "guess = 3\n",
    "\n",
    "# Assigning the conditionals to the conditions that may happen.\n",
    "if guess < secret:\n",
    "    print ('too low')\n",
    "elif guess > secret:\n",
    "    print ('too high')\n",
    "else:\n",
    "    print ('just right')"
   ]
  },
  {
   "cell_type": "code",
   "execution_count": 25,
   "id": "4f469a11",
   "metadata": {},
   "outputs": [
    {
     "name": "stdout",
     "output_type": "stream",
     "text": [
      "It's a cherry!\n"
     ]
    }
   ],
   "source": [
    "# Things to do: 4.2\n",
    "\n",
    "# Assigning True to Small and Green.\n",
    "small = True\n",
    "green = False\n",
    "\n",
    "# Writting If Else statements to describe the given foods: \n",
    "# cherry, pea, watermelon, pumpkin.\n",
    "if green:\n",
    "    if small:\n",
    "        print (\"It's a pea!\")\n",
    "    else:\n",
    "        print (\"It's a watermelon!\")\n",
    "else:\n",
    "    if small:\n",
    "        print (\"It's a cherry!\")\n",
    "    else:\n",
    "        print (\"It's a pumpkin!\")"
   ]
  },
  {
   "cell_type": "code",
   "execution_count": 26,
   "id": "3a91d964",
   "metadata": {},
   "outputs": [
    {
     "name": "stdout",
     "output_type": "stream",
     "text": [
      "3\n",
      "2\n",
      "1\n",
      "0\n"
     ]
    },
    {
     "data": {
      "text/plain": [
       "[3, 2, 1, 0]"
      ]
     },
     "execution_count": 26,
     "metadata": {},
     "output_type": "execute_result"
    }
   ],
   "source": [
    "# Things to do: 6.1\n",
    "\n",
    "# Using a for loop to print 3,2,1,0.\n",
    "for x in range (3,-1,-1):\n",
    "    print (x)\n",
    "\n",
    "# Printing the range in a list.\n",
    "list(range(3,-1,-1))"
   ]
  },
  {
   "cell_type": "code",
   "execution_count": 27,
   "id": "5ee05641",
   "metadata": {},
   "outputs": [
    {
     "name": "stdout",
     "output_type": "stream",
     "text": [
      "too low\n",
      "too low\n",
      "too low\n",
      "too low\n",
      "too low\n",
      "too low\n",
      "found it!\n"
     ]
    }
   ],
   "source": [
    "# Things to do: 6.2\n",
    "\n",
    "# Assigning 7 to guess_me and 1 to number.\n",
    "guess_me = 7\n",
    "number = 1\n",
    "\n",
    "# Creating a while loop to compare the two numbers.\n",
    "while True:\n",
    "# Creating conditions for the two numbers.\n",
    "    if number < guess_me:\n",
    "        print ('too low')\n",
    "        number += 1\n",
    "    if number == guess_me:\n",
    "        print ('found it!')\n",
    "        break\n",
    "    if number > guess_me:\n",
    "        print ('oops')\n",
    "        break\n",
    "    "
   ]
  },
  {
   "cell_type": "code",
   "execution_count": 28,
   "id": "590c3e89",
   "metadata": {},
   "outputs": [
    {
     "name": "stdout",
     "output_type": "stream",
     "text": [
      "too low\n",
      "too low\n",
      "too low\n",
      "too low\n",
      "too low\n",
      "found it!\n"
     ]
    }
   ],
   "source": [
    "# Things to do: 6.3\n",
    "\n",
    "# Assigning 5 to guess_me\n",
    "guess_me = 5\n",
    "\n",
    "# Creating a for loop to iterate the variable number through a range of 10\n",
    "for number in range (10):\n",
    "# Creating Conditions for the Variable number\n",
    "    if number < guess_me:\n",
    "        print ('too low')\n",
    "    if number == guess_me:\n",
    "        print ('found it!')\n",
    "        break\n",
    "    if number > guess_me:\n",
    "        print ('oops')\n",
    "        break"
   ]
  }
 ],
 "metadata": {
  "kernelspec": {
   "display_name": "Python 3 (ipykernel)",
   "language": "python",
   "name": "python3"
  },
  "language_info": {
   "codemirror_mode": {
    "name": "ipython",
    "version": 3
   },
   "file_extension": ".py",
   "mimetype": "text/x-python",
   "name": "python",
   "nbconvert_exporter": "python",
   "pygments_lexer": "ipython3",
   "version": "3.9.12"
  }
 },
 "nbformat": 4,
 "nbformat_minor": 5
}
