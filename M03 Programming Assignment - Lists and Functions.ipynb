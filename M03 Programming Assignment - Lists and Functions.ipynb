{
 "cells": [
  {
   "cell_type": "code",
   "execution_count": 1,
   "id": "8e29d19a",
   "metadata": {},
   "outputs": [],
   "source": [
    "# MO3 Programming Assignment - Lists and Functions\n",
    "# Author: Xander Jewell\n",
    "# Created: 2023-01-30\n",
    "# The programming assignment questions for Module 3"
   ]
  },
  {
   "cell_type": "code",
   "execution_count": 2,
   "id": "de1e2280",
   "metadata": {},
   "outputs": [],
   "source": [
    "# 7.4\n",
    "# Created a list called things that contains the following items:\n",
    "# \"mozzarella\", \"cinderella\", \"salmonella\"\n",
    "things = [\"mozzarella\", \"cinderella\", \"salmonella\"]"
   ]
  },
  {
   "cell_type": "code",
   "execution_count": 10,
   "id": "76c0b696",
   "metadata": {},
   "outputs": [
    {
     "data": {
      "text/plain": [
       "'Cinderella'"
      ]
     },
     "execution_count": 10,
     "metadata": {},
     "output_type": "execute_result"
    }
   ],
   "source": [
    "# 7.5\n",
    "# Capitalizing the first letter in cinderella.\n",
    "things[1].capitalize()"
   ]
  },
  {
   "cell_type": "code",
   "execution_count": 4,
   "id": "f2c961f5",
   "metadata": {},
   "outputs": [
    {
     "name": "stdout",
     "output_type": "stream",
     "text": [
      "['mozzarella', 'cinderella', 'salmonella']\n"
     ]
    }
   ],
   "source": [
    "# Printing the List to see if it permanently changed the word.\n",
    "print (things)"
   ]
  },
  {
   "cell_type": "code",
   "execution_count": 5,
   "id": "05e89318",
   "metadata": {},
   "outputs": [],
   "source": [
    "# The element was not changed in the list."
   ]
  },
  {
   "cell_type": "code",
   "execution_count": 6,
   "id": "8b7d66fd",
   "metadata": {},
   "outputs": [
    {
     "data": {
      "text/plain": [
       "'MOZZARELLA'"
      ]
     },
     "execution_count": 6,
     "metadata": {},
     "output_type": "execute_result"
    }
   ],
   "source": [
    "# 7.6\n",
    "# Setting mozzarella to all upper case.\n",
    "things[0].upper()"
   ]
  },
  {
   "cell_type": "code",
   "execution_count": 7,
   "id": "2d3ad244",
   "metadata": {},
   "outputs": [
    {
     "name": "stdout",
     "output_type": "stream",
     "text": [
      "['mozzarella', 'cinderella', 'salmonella']\n"
     ]
    }
   ],
   "source": [
    "# Printing the list to see if the word was permanently changed.\n",
    "print (things)"
   ]
  },
  {
   "cell_type": "code",
   "execution_count": 8,
   "id": "c80929b9",
   "metadata": {},
   "outputs": [],
   "source": [
    "# 7.7\n",
    "# Deleting the salmonella out of the list.\n",
    "del things[2]"
   ]
  },
  {
   "cell_type": "code",
   "execution_count": 9,
   "id": "137ce957",
   "metadata": {},
   "outputs": [
    {
     "name": "stdout",
     "output_type": "stream",
     "text": [
      "['mozzarella', 'cinderella']\n"
     ]
    }
   ],
   "source": [
    "# Making sure the item was removed.\n",
    "print (things)"
   ]
  },
  {
   "cell_type": "code",
   "execution_count": 11,
   "id": "93f46689",
   "metadata": {},
   "outputs": [],
   "source": [
    "# 9.1\n",
    "# Creating a function that returns a created list.\n",
    "# The list contains 'Harry', 'Ron', 'Hermione'.\n",
    "def good():\n",
    "    characters = ['Harry', 'Ron', 'Hermione']\n",
    "    return characters"
   ]
  },
  {
   "cell_type": "code",
   "execution_count": 12,
   "id": "79cff17a",
   "metadata": {},
   "outputs": [
    {
     "data": {
      "text/plain": [
       "['Harry', 'Ron', 'Hermione']"
      ]
     },
     "execution_count": 12,
     "metadata": {},
     "output_type": "execute_result"
    }
   ],
   "source": [
    "# Running the function.\n",
    "good()"
   ]
  },
  {
   "cell_type": "code",
   "execution_count": 75,
   "id": "d4792073",
   "metadata": {},
   "outputs": [
    {
     "name": "stdout",
     "output_type": "stream",
     "text": [
      "The Third Number printed is 5.\n"
     ]
    }
   ],
   "source": [
    "# 9.2\n",
    "# Creating a function that returns the \n",
    "# Odd numbers from a range of 10.\n",
    "# Then creating a for loop to print the\n",
    "# The third value that returned\n",
    "def get_odds():\n",
    "    odd_numbers = range(1, 10, 2)\n",
    "    for number in odd_numbers:\n",
    "        yield number\n",
    "        \n",
    "step = 5\n",
    "for i in get_odds():\n",
    "    if i == step:\n",
    "        print(f\"The Third Number printed is {i}.\")"
   ]
  }
 ],
 "metadata": {
  "kernelspec": {
   "display_name": "Python 3 (ipykernel)",
   "language": "python",
   "name": "python3"
  },
  "language_info": {
   "codemirror_mode": {
    "name": "ipython",
    "version": 3
   },
   "file_extension": ".py",
   "mimetype": "text/x-python",
   "name": "python",
   "nbconvert_exporter": "python",
   "pygments_lexer": "ipython3",
   "version": "3.9.12"
  }
 },
 "nbformat": 4,
 "nbformat_minor": 5
}
