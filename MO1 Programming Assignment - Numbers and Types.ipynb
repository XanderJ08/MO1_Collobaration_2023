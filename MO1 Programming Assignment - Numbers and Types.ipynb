{
 "cells": [
  {
   "cell_type": "code",
   "execution_count": 1,
   "id": "2964b69c",
   "metadata": {},
   "outputs": [],
   "source": [
    "# mo1 Programming Assignment - Numbers and Types\n",
    "# author: Xander Jewell\n",
    "# created : 2023-01-17\n",
    "# Program to do MO1 Programming Assignment"
   ]
  },
  {
   "cell_type": "code",
   "execution_count": 2,
   "id": "c27d4816",
   "metadata": {},
   "outputs": [
    {
     "name": "stdout",
     "output_type": "stream",
     "text": [
      "3600\n"
     ]
    }
   ],
   "source": [
    "# There are 60 seconds in a hour.\n",
    "# Calculating 60 times 60. \n",
    "print (60 * 60)"
   ]
  },
  {
   "cell_type": "code",
   "execution_count": 3,
   "id": "87e56160",
   "metadata": {},
   "outputs": [],
   "source": [
    "# Assigning 3600 to seconds_per_hour.\n",
    "seconds_per_hour = 3600"
   ]
  },
  {
   "cell_type": "code",
   "execution_count": 4,
   "id": "d35c7842",
   "metadata": {
    "scrolled": true
   },
   "outputs": [
    {
     "name": "stdout",
     "output_type": "stream",
     "text": [
      "86400\n"
     ]
    }
   ],
   "source": [
    "# There are 86400 seconds in one day.\n",
    "print (seconds_per_hour * 24)"
   ]
  },
  {
   "cell_type": "code",
   "execution_count": 5,
   "id": "4b70bc40",
   "metadata": {},
   "outputs": [],
   "source": [
    "# Calculating Seconds Per Day then assigning it to seconds_per_day.\n",
    "seconds_per_day = (seconds_per_hour * 24)"
   ]
  },
  {
   "cell_type": "code",
   "execution_count": 6,
   "id": "145c1928",
   "metadata": {},
   "outputs": [
    {
     "name": "stdout",
     "output_type": "stream",
     "text": [
      "24.0\n"
     ]
    }
   ],
   "source": [
    "# Dividing Seconds Per Day by Seconds Per Hour by using floating point division.\n",
    "print (seconds_per_day / seconds_per_hour)"
   ]
  },
  {
   "cell_type": "code",
   "execution_count": 7,
   "id": "1b45255a",
   "metadata": {},
   "outputs": [
    {
     "name": "stdout",
     "output_type": "stream",
     "text": [
      "24\n"
     ]
    }
   ],
   "source": [
    "# Dividing Seconds Per Day by Seconds Per Hour by using interger division.\n",
    "print (seconds_per_day // seconds_per_hour)"
   ]
  },
  {
   "cell_type": "code",
   "execution_count": null,
   "id": "640f9b8b",
   "metadata": {},
   "outputs": [],
   "source": [
    "# The answers did agree, aside from the point zero due to floating point division."
   ]
  }
 ],
 "metadata": {
  "kernelspec": {
   "display_name": "Python 3 (ipykernel)",
   "language": "python",
   "name": "python3"
  },
  "language_info": {
   "codemirror_mode": {
    "name": "ipython",
    "version": 3
   },
   "file_extension": ".py",
   "mimetype": "text/x-python",
   "name": "python",
   "nbconvert_exporter": "python",
   "pygments_lexer": "ipython3",
   "version": "3.9.12"
  }
 },
 "nbformat": 4,
 "nbformat_minor": 5
}
