{
 "cells": [
  {
   "cell_type": "code",
   "execution_count": 1,
   "id": "15ca5225",
   "metadata": {},
   "outputs": [],
   "source": [
    "# M04 Programming Assignment - Modules and Databases\n",
    "# Author: Xander Jewell\n",
    "# Created: 2023-02-06\n",
    "# This is the zoo.py to import"
   ]
  },
  {
   "cell_type": "code",
   "execution_count": 2,
   "id": "14dae86e",
   "metadata": {},
   "outputs": [],
   "source": [
    "# Creating the function hours\n",
    "def hours():\n",
    "    print('Open 9-5 daily')"
   ]
  }
 ],
 "metadata": {
  "kernelspec": {
   "display_name": "Python 3 (ipykernel)",
   "language": "python",
   "name": "python3"
  },
  "language_info": {
   "codemirror_mode": {
    "name": "ipython",
    "version": 3
   },
   "file_extension": ".py",
   "mimetype": "text/x-python",
   "name": "python",
   "nbconvert_exporter": "python",
   "pygments_lexer": "ipython3",
   "version": "3.9.12"
  }
 },
 "nbformat": 4,
 "nbformat_minor": 5
}
