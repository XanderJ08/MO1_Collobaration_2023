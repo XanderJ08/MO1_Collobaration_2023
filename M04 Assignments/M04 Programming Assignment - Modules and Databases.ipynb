{
 "cells": [
  {
   "cell_type": "code",
   "execution_count": 1,
   "id": "f8e09251",
   "metadata": {},
   "outputs": [],
   "source": [
    "# M04 Programming Assignment - Modules and Databases\n",
    "# Author: Xander Jewell\n",
    "# Created: 2023-02-06\n",
    "# This is the Programming Assignment for Module 4\n",
    "# Includes: 11.1, 11.2, 16.8"
   ]
  },
  {
   "cell_type": "code",
   "execution_count": 7,
   "id": "032afa89",
   "metadata": {
    "scrolled": false
   },
   "outputs": [
    {
     "name": "stdout",
     "output_type": "stream",
     "text": [
      "Open 9-5 daily\n"
     ]
    }
   ],
   "source": [
    "# 11.1\n",
    "# Importing the Zoo file\n",
    "import zoo\n",
    "\n",
    "# Calling the hours function\n",
    "zoo.hours()"
   ]
  },
  {
   "cell_type": "code",
   "execution_count": 8,
   "id": "792efa68",
   "metadata": {
    "scrolled": true
   },
   "outputs": [
    {
     "name": "stdout",
     "output_type": "stream",
     "text": [
      "Open 9-5 daily\n"
     ]
    }
   ],
   "source": [
    "# 11.2\n",
    "# Importing the module as menagerie\n",
    "import zoo as menagerie\n",
    "# Calling the hours function\n",
    "menagerie.hours()"
   ]
  },
  {
   "cell_type": "code",
   "execution_count": 116,
   "id": "6b058288",
   "metadata": {},
   "outputs": [],
   "source": [
    "# 16.8 (16.3)\n",
    "# Creating the csv file called books2.csv\n",
    "\n",
    "text = '''title,author,year\n",
    "The Weirdstone of Brisingamen,Alan Garner,1960\n",
    "Perdido Street Station,China Miéville,2000\n",
    "Thud!,Terry Pratchett,2005\n",
    "The Spellman Files,Lisa Lutz,2007\n",
    "Small Gods,Terry Pratchett,1992'''\n",
    "\n",
    "with open('books2.csv', 'wt') as fileout:\n",
    "    fileout.write(text)"
   ]
  },
  {
   "cell_type": "code",
   "execution_count": 117,
   "id": "bc788be6",
   "metadata": {
    "scrolled": true
   },
   "outputs": [
    {
     "data": {
      "text/plain": [
       "<sqlite3.Cursor at 0x7ff6e0d685e0>"
      ]
     },
     "execution_count": 117,
     "metadata": {},
     "output_type": "execute_result"
    }
   ],
   "source": [
    "# 16.8 (16.4)\n",
    "# Creating a sqlite database named books\n",
    "# Along with fields like text, author, and year\n",
    "\n",
    "import sqlite3\n",
    "db = sqlite3.connect('books.db')\n",
    "curs = db.cursor()\n",
    "curs.execute('''create table book (title text, \n",
    "            author text, year int)''')"
   ]
  },
  {
   "cell_type": "code",
   "execution_count": 118,
   "id": "81e706d2",
   "metadata": {},
   "outputs": [],
   "source": [
    "db.commit()"
   ]
  },
  {
   "cell_type": "code",
   "execution_count": 121,
   "id": "66608d1f",
   "metadata": {},
   "outputs": [],
   "source": [
    "# 16.8 (16.5)\n",
    "# Reading books2.csv and\n",
    "# inserting its data into the \n",
    "# book table\n",
    "\n",
    "import csv\n",
    "import sqlite3\n",
    "ins_str = 'insert into book values(?, ?, ?)'\n",
    "\n",
    "with open('books2.csv', 'rt') as filein:\n",
    "   books = csv.DictReader(filein)\n",
    "\n",
    "   for book in books:\n",
    "     curs.execute(ins_str, (book['title'], \n",
    "            book['author'], book['year']))"
   ]
  },
  {
   "cell_type": "code",
   "execution_count": 122,
   "id": "c96d8046",
   "metadata": {},
   "outputs": [],
   "source": [
    "db.commit()"
   ]
  },
  {
   "cell_type": "code",
   "execution_count": 123,
   "id": "c004d662",
   "metadata": {},
   "outputs": [
    {
     "name": "stdout",
     "output_type": "stream",
     "text": [
      "('Perdido Street Station',)\n",
      "('Small Gods',)\n",
      "('The Spellman Files',)\n",
      "('The Weirdstone of Brisingamen',)\n",
      "('Thud!',)\n"
     ]
    }
   ],
   "source": [
    "# 16.8\n",
    "# Using the sqlalchemy module to connect\n",
    "# to the database we already made callled\n",
    "# books0.db.\n",
    "# Then we will print the titles in \n",
    "# alphabetical order.\n",
    "\n",
    "import sqlalchemy\n",
    "conn = sqlalchemy.create_engine('sqlite:///books.db')\n",
    "\n",
    "sql = 'select title from book order by title asc'\n",
    "\n",
    "rows = conn.execute(sql)\n",
    "for row in rows:\n",
    "    print(row)"
   ]
  },
  {
   "cell_type": "code",
   "execution_count": null,
   "id": "4c57b65f",
   "metadata": {},
   "outputs": [],
   "source": []
  }
 ],
 "metadata": {
  "kernelspec": {
   "display_name": "Python 3 (ipykernel)",
   "language": "python",
   "name": "python3"
  },
  "language_info": {
   "codemirror_mode": {
    "name": "ipython",
    "version": 3
   },
   "file_extension": ".py",
   "mimetype": "text/x-python",
   "name": "python",
   "nbconvert_exporter": "python",
   "pygments_lexer": "ipython3",
   "version": "3.9.12"
  }
 },
 "nbformat": 4,
 "nbformat_minor": 5
}
