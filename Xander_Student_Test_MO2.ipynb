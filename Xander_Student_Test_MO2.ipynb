{
 "cells": [
  {
   "cell_type": "code",
   "execution_count": 1,
   "id": "17c85d80",
   "metadata": {},
   "outputs": [],
   "source": [
    "# M02 Lab - Case Study: if...else and while\n",
    "# Author: Xander Jewell\n",
    "# Created: 2023-01-23\n",
    "# Accepting Student Names and Determining whether...\n",
    "# They made the Dean's List, Honor Roll, or Neither"
   ]
  },
  {
   "cell_type": "code",
   "execution_count": 7,
   "id": "9e6ddebe",
   "metadata": {},
   "outputs": [
    {
     "name": "stdout",
     "output_type": "stream",
     "text": [
      "\n",
      "If you would like to quit the app, please enter ZZZ.\n",
      "\n",
      "Please enter the student's last name: Jewell\n",
      "Please enter the student's first name: Xander\n",
      "\n",
      "Please enter the student's gpa (Ex: 4.0): 2.0\n",
      "Xander Jewell has made neither the Honor Roll or the Dean's List.\n",
      "\n",
      "If you would like to quit the app, please enter ZZZ.\n",
      "\n",
      "Please enter the student's last name: Jobs\n",
      "Please enter the student's first name: Steve\n",
      "\n",
      "Please enter the student's gpa (Ex: 4.0): 3.3\n",
      "Steve Jobs has made the Honor Roll!\n",
      "\n",
      "If you would like to quit the app, please enter ZZZ.\n",
      "\n",
      "Please enter the student's last name: Newton\n",
      "Please enter the student's first name: Isaac\n",
      "\n",
      "Please enter the student's gpa (Ex: 4.0): 4.5\n",
      "Isaac Newton has made the Honor Roll!\n",
      "Isaac Newton has made the Dean's List!\n",
      "\n",
      "If you would like to quit the app, please enter ZZZ.\n",
      "\n",
      "Please enter the student's last name: Gates\n",
      "Please enter the student's first name: Bill\n",
      "\n",
      "Please enter the student's gpa (Ex: 4.0): 3.1\n",
      "Bill Gates has made neither the Honor Roll or the Dean's List.\n",
      "\n",
      "If you would like to quit the app, please enter ZZZ.\n",
      "\n",
      "Please enter the student's last name: Locke\n",
      "Please enter the student's first name: John\n",
      "\n",
      "Please enter the student's gpa (Ex: 4.0): 3.24\n",
      "John Locke has made neither the Honor Roll or the Dean's List.\n",
      "\n",
      "If you would like to quit the app, please enter ZZZ.\n",
      "\n",
      "Please enter the student's last name: ZZZ\n",
      "Ending the program.\n"
     ]
    }
   ],
   "source": [
    "# Creating a while loop to begin the program.\n",
    "while True:\n",
    "    \n",
    "    # Providing a way for the user to exit if they wanted to.\n",
    "    print (\"\\nIf you would like to quit the app, please enter ZZZ.\")\n",
    "    \n",
    "    # Creating Input for Last Name.\n",
    "    last_name = str(input(\"\\nPlease enter the student's last name: \"))\n",
    "    \n",
    "    # Allowing for the User to exit.\n",
    "    if last_name == 'ZZZ' or last_name == 'zzz':\n",
    "        print (\"Ending the program.\")\n",
    "        break\n",
    "        \n",
    "    # Creating Input for First Name.\n",
    "    first_name = str(input(\"Please enter the student's first name: \"))\n",
    "    \n",
    "    # Asking for the gpa.\n",
    "    student_gpa = float(input(\"\\nPlease enter the student's gpa (Ex: 4.0): \"))\n",
    "    \n",
    "    # Setting up the condtions for GPA.\n",
    "    if student_gpa >= 3.25:\n",
    "        print (f\"{first_name} {last_name} has made the Honor Roll!\")\n",
    "    if student_gpa >= 3.25 and student_gpa >= 3.5:\n",
    "        print (f\"{first_name} {last_name} has made the Dean's List!\")\n",
    "    elif student_gpa < 3.25:\n",
    "        print(f\"{first_name} {last_name} has made neither the Honor Roll or the Dean's List.\")"
   ]
  }
 ],
 "metadata": {
  "kernelspec": {
   "display_name": "Python 3 (ipykernel)",
   "language": "python",
   "name": "python3"
  },
  "language_info": {
   "codemirror_mode": {
    "name": "ipython",
    "version": 3
   },
   "file_extension": ".py",
   "mimetype": "text/x-python",
   "name": "python",
   "nbconvert_exporter": "python",
   "pygments_lexer": "ipython3",
   "version": "3.9.12"
  }
 },
 "nbformat": 4,
 "nbformat_minor": 5
}
