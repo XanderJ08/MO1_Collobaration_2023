{
 "cells": [
  {
   "cell_type": "code",
   "execution_count": 1,
   "id": "5bf9d26b",
   "metadata": {},
   "outputs": [],
   "source": [
    "# M03 Lab - Case Study - List, Functions, and Classes\n",
    "# Author: Xander\n",
    "# Created: 2023-01-30\n",
    "# Creating an app that allows you to show your car\n",
    "# and the details of your car."
   ]
  },
  {
   "cell_type": "code",
   "execution_count": 4,
   "id": "2f4153dc",
   "metadata": {},
   "outputs": [
    {
     "name": "stdout",
     "output_type": "stream",
     "text": [
      "Please enter your car's information in the inputs below.\n",
      "What is the year of your car?: 2022\n",
      "What is the make of your car?: Toyota\n",
      "What is the model of your car?: Corolla\n",
      "Does your car have two or four doors?: 4\n",
      "Does your car have a solid or sun roof?: Sun Roof\n",
      "\n",
      "Vehicle Type: Car\n",
      "Year: 2022\n",
      "Make: Toyota\n",
      "Model: Corolla\n",
      "Number of Doors: 4\n",
      "Type of Roof: Sun Roof\n"
     ]
    }
   ],
   "source": [
    "# Setting up the Vehicle Superclass.\n",
    "class Vehicle():\n",
    "    # Setting attributes for the different types of travel.\n",
    "    def __init__(self, car, truck, plane, boat, broomstick):\n",
    "        self.car = car\n",
    "        self.truck = truck\n",
    "        self.plane = plane\n",
    "        self.boat = boat\n",
    "        self.broomstick = broomstick\n",
    "        \n",
    "# Setting up the Automobile Class that inherits Vehicle.\n",
    "class Automobile(Vehicle):\n",
    "    def __init__(self, car, year, make, model, doors, roof):\n",
    "        self.car = car\n",
    "        self.year = year\n",
    "        self.make = make\n",
    "        self.model = model\n",
    "        self.doors = doors\n",
    "        self.roof = roof\n",
    "\n",
    "# Creating the inputs for the details of the car.\n",
    "print (\"Please enter your car's information in the inputs below.\")\n",
    "vehicle_type = \"Car\"\n",
    "year_made = input (\"What is the year of your car?: \")\n",
    "car_make = input (\"What is the make of your car?: \")\n",
    "car_model = input (\"What is the model of your car?: \")\n",
    "door_number = input (\"Does your car have two or four doors?: \")\n",
    "roof_type = input (\"Does your car have a solid or sun roof?: \")\n",
    "\n",
    "# Putting the information from the user back into \n",
    "# the Automobile and Vehicle Class.\n",
    "user_car = Automobile(vehicle_type, year_made, car_make, car_model, door_number, roof_type)\n",
    "\n",
    "# Printing out the car's information\n",
    "# in a formatted way.\n",
    "print (f\"\\nVehicle Type: {user_car.car}\")\n",
    "print (f\"Year: {user_car.year}\")\n",
    "print (f\"Make: {user_car.make}\")\n",
    "print (f\"Model: {user_car.model}\")\n",
    "print (f\"Number of Doors: {user_car.doors}\")\n",
    "print (f\"Type of Roof: {user_car.roof}\")"
   ]
  },
  {
   "cell_type": "code",
   "execution_count": null,
   "id": "4b9612e8",
   "metadata": {},
   "outputs": [],
   "source": []
  }
 ],
 "metadata": {
  "kernelspec": {
   "display_name": "Python 3 (ipykernel)",
   "language": "python",
   "name": "python3"
  },
  "language_info": {
   "codemirror_mode": {
    "name": "ipython",
    "version": 3
   },
   "file_extension": ".py",
   "mimetype": "text/x-python",
   "name": "python",
   "nbconvert_exporter": "python",
   "pygments_lexer": "ipython3",
   "version": "3.9.12"
  }
 },
 "nbformat": 4,
 "nbformat_minor": 5
}
