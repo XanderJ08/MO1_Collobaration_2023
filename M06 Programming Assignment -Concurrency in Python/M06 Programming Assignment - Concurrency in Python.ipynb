{
 "cells": [
  {
   "cell_type": "code",
   "execution_count": 1,
   "id": "06cd667a",
   "metadata": {},
   "outputs": [],
   "source": [
    "# M06 Programming Assignment - Concurrency in Python\n",
    "# Author: Xander Jewell\n",
    "# Created: 2023-02-20\n",
    "# Doing the Programming Assignments in our class book:\n",
    "# 13.1, 13.2, 13.3\n",
    "# 15.1 will be done in Visual Studio Code."
   ]
  },
  {
   "cell_type": "code",
   "execution_count": 4,
   "id": "e2d118ab",
   "metadata": {},
   "outputs": [],
   "source": [
    "# 13.1\n",
    "# Writing the current date as a string\n",
    "# to a text file named today.txt\n",
    "\n",
    "# Importing date from datetime\n",
    "from datetime import date\n",
    "\n",
    "# Assigning today's date to a variable\n",
    "# called today.\n",
    "today = date.today()\n",
    "\n",
    "# Turning variable today into string\n",
    "today_string = today.isoformat()\n",
    "\n",
    "# Writing the variable into a text file \n",
    "# named today.txt and printing it\n",
    "with open('today.txt', 'wt') as output:\n",
    "    output.write(today_string)"
   ]
  },
  {
   "cell_type": "code",
   "execution_count": 5,
   "id": "76d53ac8",
   "metadata": {},
   "outputs": [
    {
     "data": {
      "text/plain": [
       "'2023-02-20'"
      ]
     },
     "execution_count": 5,
     "metadata": {},
     "output_type": "execute_result"
    }
   ],
   "source": [
    "# 13.2 \n",
    "# Reading the text file today.txt into\n",
    "# a string called today_string\n",
    "\n",
    "# Opening the text file and reading it\n",
    "with open('today.txt', 'rt') as today:\n",
    "    today_string = today.read()\n",
    "\n",
    "# Displaying the string\n",
    "today_string"
   ]
  },
  {
   "cell_type": "code",
   "execution_count": 14,
   "id": "a8f12aab",
   "metadata": {},
   "outputs": [
    {
     "data": {
      "text/plain": [
       "datetime.datetime(2023, 2, 20, 0, 0)"
      ]
     },
     "execution_count": 14,
     "metadata": {},
     "output_type": "execute_result"
    }
   ],
   "source": [
    "# 13.3\n",
    "# Parsing the date from today_string\n",
    "\n",
    "# Importing date\n",
    "from datetime import date\n",
    "\n",
    "# Setting the format\n",
    "fmat = '%Y-%m-%d'\n",
    "\n",
    "# Converting to date\n",
    "datetime.datetime.strptime(today_string, fmat)"
   ]
  },
  {
   "cell_type": "code",
   "execution_count": 23,
   "id": "1a5fb05f",
   "metadata": {},
   "outputs": [],
   "source": [
    "# 15.1\n",
    "# I will do this one in Visual Studio Code    "
   ]
  }
 ],
 "metadata": {
  "kernelspec": {
   "display_name": "Python 3 (ipykernel)",
   "language": "python",
   "name": "python3"
  },
  "language_info": {
   "codemirror_mode": {
    "name": "ipython",
    "version": 3
   },
   "file_extension": ".py",
   "mimetype": "text/x-python",
   "name": "python",
   "nbconvert_exporter": "python",
   "pygments_lexer": "ipython3",
   "version": "3.9.12"
  }
 },
 "nbformat": 4,
 "nbformat_minor": 5
}
